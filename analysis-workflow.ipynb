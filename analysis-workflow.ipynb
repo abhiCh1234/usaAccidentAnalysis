{
 "cells": [
  {
   "cell_type": "code",
   "execution_count": 5,
   "id": "0b8d51ca",
   "metadata": {},
   "outputs": [],
   "source": [
    "import findspark"
   ]
  },
  {
   "cell_type": "code",
   "execution_count": 7,
   "id": "91688025-7224-4cd8-ae87-8bec55eb5204",
   "metadata": {},
   "outputs": [],
   "source": [
    "findspark.init('C:\\spark')\n",
    "from pyspark.sql import SparkSession, Window\n",
    "from pyspark.sql.functions import *"
   ]
  },
  {
   "cell_type": "code",
   "execution_count": 8,
   "id": "02183f6b-d4f4-46f4-90c5-b069cd9d27e6",
   "metadata": {},
   "outputs": [],
   "source": [
    "spark = SparkSession \\\n",
    "        .builder \\\n",
    "        .master(\"local\")\\\n",
    "        .appName(\"USVehicleAccidentAnalysis\") \\\n",
    "        .getOrCreate()"
   ]
  },
  {
   "cell_type": "code",
   "execution_count": 36,
   "id": "57cddc2a-ac88-44a9-974c-51529032efc1",
   "metadata": {},
   "outputs": [],
   "source": [
    "df_charges = spark.read.csv(\"../Data/Charges_use.csv\", header=True)\n",
    "df_damages = spark.read.csv(\"../Data/Damages_use.csv\", header=True)\n",
    "df_units = spark.read.csv(\"../Data/Units_use.csv\", header=True)\n",
    "df_endorse = spark.read.csv(\"../Data/Endorse_use.csv\", header=True)\n",
    "df_restrict = spark.read.csv(\"../Data/Restrict_use.csv\", header=True)\n",
    "df_primary_person_use = spark.read.csv(\"../Data/Primary_Person_use.csv\", header=True)"
   ]
  },
  {
   "cell_type": "code",
   "execution_count": 91,
   "id": "d5837b01-ae65-417a-bda3-f91940fd1003",
   "metadata": {},
   "outputs": [
    {
     "data": {
      "text/plain": [
       "DataFrame[summary: string, CRASH_ID: string, UNIT_NBR: string, DRVR_LIC_RESTRIC_ID: string]"
      ]
     },
     "execution_count": 91,
     "metadata": {},
     "output_type": "execute_result"
    }
   ],
   "source": [
    "df_charges.describe()\n",
    "df_damages.describe()\n",
    "df_endorse.describe()\n",
    "df_restrict.describe()"
   ]
  },
  {
   "cell_type": "code",
   "execution_count": 186,
   "id": "bf7810ae-e7f2-4d15-9641-8b891231318d",
   "metadata": {},
   "outputs": [
    {
     "name": "stdout",
     "output_type": "stream",
     "text": [
      "[0, 1, 2, 3, 4, 5, 6, 7, 8, 9, 10, 11, 12, 13, 14, 15, 16, 17, 18, 19, 20, 21, 22, 23, 24, 25, 26, 27, 28, 29, 30, 31, 32, 33, 34, 35, 36]\n"
     ]
    }
   ],
   "source": [
    "df_units.describe()"
   ]
  },
  {
   "cell_type": "code",
   "execution_count": null,
   "id": "d650fdb2-f906-456d-b77e-2e81e19dd142",
   "metadata": {},
   "outputs": [],
   "source": [
    "## df_units analysis \n",
    "# df_units.filter(col('CRASH_ID')=='15019844').distinct().show()\n",
    "# df_primary_person_use.filter(col('CRASH_ID')=='15019844').show()\n",
    "#print(df_units.count())\n",
    "#print(df_units.distinct().count())\n",
    "#173499\n",
    "#168124\n",
    "## DUPLICATES\n",
    "#print(df_units.drop('VEH_DMAG_AREA_1_ID','VEH_DMAG_AREA_2_ID').distinct().count())\n",
    "### UNIQUE UNITS\n",
    "#print(df_units.select('CRASH_ID','UNIT_NBR','VIN').distinct().count())\n",
    "#df_units.distinct().groupBy('CRASH_ID','UNIT_NBR','VIN').agg(count('CRASH_ID').alias('count')) \\\n",
    "#    .filter(col('count')>1).show()\n",
    "#df_units.filter(col('VIN')=='1C6RR7FT7DS652168').distinct().show(truncate=False)"
   ]
  },
  {
   "cell_type": "code",
   "execution_count": 147,
   "id": "81f07944-e3ce-4de3-aaef-2367978cce98",
   "metadata": {},
   "outputs": [
    {
     "name": "stdout",
     "output_type": "stream",
     "text": [
      "['CRASH_ID', 'UNIT_NBR', 'PRSN_NBR', 'PRSN_TYPE_ID', 'PRSN_OCCPNT_POS_ID', 'PRSN_INJRY_SEV_ID', 'PRSN_AGE', 'PRSN_ETHNICITY_ID', 'PRSN_GNDR_ID', 'PRSN_EJCT_ID', 'PRSN_REST_ID', 'PRSN_AIRBAG_ID', 'PRSN_HELMET_ID', 'PRSN_SOL_FL', 'PRSN_ALC_SPEC_TYPE_ID', 'PRSN_ALC_RSLT_ID', 'PRSN_BAC_TEST_RSLT', 'PRSN_DRG_SPEC_TYPE_ID', 'PRSN_DRG_RSLT_ID', 'DRVR_DRG_CAT_1_ID', 'PRSN_DEATH_TIME', 'INCAP_INJRY_CNT', 'NONINCAP_INJRY_CNT', 'POSS_INJRY_CNT', 'NON_INJRY_CNT', 'UNKN_INJRY_CNT', 'TOT_INJRY_CNT', 'DEATH_CNT', 'DRVR_LIC_TYPE_ID', 'DRVR_LIC_STATE_ID', 'DRVR_LIC_CLS_ID', 'DRVR_ZIP']\n",
      "156954\n",
      "156954\n",
      "156954\n",
      "['NON_INJRY_CNT', 'TOT_INJRY_CNT', 'INCAP_INJRY_CNT', 'POSS_INJRY_CNT', 'CRASH_ID', 'DEATH_CNT', 'UNIT_NBR', 'UNKN_INJRY_CNT', 'NONINCAP_INJRY_CNT']\n"
     ]
    }
   ],
   "source": [
    "# df_primary_person_use analysis\n",
    "print(df_primary_person_use.columns)\n",
    "print(df_primary_person_use.count())\n",
    "print(df_primary_person_use.distinct().count())\n",
    "print(df_primary_person_use.select('CRASH_ID','UNIT_NBR').distinct().count())\n",
    "print(list(set(df_units.columns) & set(df_primary_person_use.columns)))\n",
    "# common columns CRASH_ID, UNIT_NBR"
   ]
  },
  {
   "cell_type": "code",
   "execution_count": 355,
   "id": "65ea70c3-a570-4b97-83e4-98e3c5159c4d",
   "metadata": {},
   "outputs": [
    {
     "name": "stdout",
     "output_type": "stream",
     "text": [
      "['CRASH_ID', 'UNIT_NBR', 'PRSN_NBR', 'CHARGE', 'CITATION_NBR']\n",
      "116110\n",
      "115909\n",
      "93299\n",
      "93415\n",
      "115842\n",
      "+--------+--------+--------+----------------------------------------+------------+\n",
      "|CRASH_ID|UNIT_NBR|PRSN_NBR|CHARGE                                  |CITATION_NBR|\n",
      "+--------+--------+--------+----------------------------------------+------------+\n",
      "|14768622|1       |1       |DRIVING WHILE INTOXICATED               |null        |\n",
      "|14838637|1       |1       |DWI                                     |1600000015  |\n",
      "|14838641|1       |1       |RAN RED LIGHT SOLID (TC 544.007)        |L20440      |\n",
      "|14838641|2       |1       |NO DRIVER'S LICENSE (TC521.025)         |L23141      |\n",
      "|14838668|1       |1       |DRIVING WHILE INTOXICATED               |TX4IC50SRJD3|\n",
      "|14838669|2       |1       |DWI W/BAC >.015                         |2015-000006 |\n",
      "|14838670|1       |1       |DRIVING WHILE INTOXICATED               |2016-000003 |\n",
      "|14838685|1       |1       |FAILED TO DRIVE SINGLE LANE, NOL, NO INS|138434825   |\n",
      "|14838693|1       |1       |DRIVING WHILE INTOXICATED               |TX4IC60UKQND|\n",
      "|14838768|2       |1       |DWI                                     |null        |\n",
      "|14838834|1       |1       |NO DRIVERS LICENSE                      |10019200    |\n",
      "|14838834|1       |1       |FAIL TO CONTROL SPEED                   |10019200    |\n",
      "|14838834|1       |1       |LEAVING THE SCENE                       |10019200    |\n",
      "|14838841|1       |1       |FTLI   / DWLI                           |16-43861    |\n",
      "|14838841|1       |1       |LEAVING SCENE OF ACCIDENT               |16-43861    |\n",
      "|14838841|1       |1       |FAIL TO DRIVE IN SINGLE LANE            |16-43861    |\n",
      "|14838841|1       |1       |FAIL TO REPORT ACCIDENT                 |16-43861    |\n",
      "|14838842|1       |1       |LEAVING SCENE OF ACCIDENT               |16-43859    |\n",
      "|14838842|1       |1       |FAIL TO REPORT ACCIDENT                 |16-43859    |\n",
      "|14838842|1       |1       |FAIL TO DRIVE IN SINGLE LANE            |16-43859    |\n",
      "+--------+--------+--------+----------------------------------------+------------+\n",
      "only showing top 20 rows\n",
      "\n"
     ]
    }
   ],
   "source": [
    "# df_charges analysis\n",
    "print(df_charges.columns)\n",
    "print(df_charges.count())\n",
    "print(df_charges.distinct().count())\n",
    "print(df_charges.select('CRASH_ID','UNIT_NBR').distinct().count())\n",
    "print(df_charges.select('CRASH_ID','UNIT_NBR', 'PRSN_NBR').distinct().count())\n",
    "print(df_charges.select('CRASH_ID','UNIT_NBR', 'PRSN_NBR', 'CHARGE').distinct().count())\n",
    "df_charges.show(truncate=False)"
   ]
  },
  {
   "cell_type": "code",
   "execution_count": 286,
   "id": "6b49889f-8a09-4c15-8b53-ed59cc59847d",
   "metadata": {},
   "outputs": [
    {
     "name": "stdout",
     "output_type": "stream",
     "text": [
      "24950\n",
      "20887\n",
      "24606\n",
      "+--------+------------------------+---------+\n",
      "|CRASH_ID|DAMAGED_PROPERTY        |ID_COUNTS|\n",
      "+--------+------------------------+---------+\n",
      "|14846500|METAL FENCE & MAILBOX   |2        |\n",
      "|14846500|METAL FENCE & MAILBOX   |2        |\n",
      "|14851892|FENCE                   |2        |\n",
      "|14851892|FENCE                   |2        |\n",
      "|14852708|SPORTSMAN TRAVEL TRAILER|2        |\n",
      "|14852708|SPORTSMAN TRAVEL TRAILER|2        |\n",
      "|14852740|ROADWAY SIGN            |2        |\n",
      "|14852740|ROADWAY SIGN            |2        |\n",
      "|14855146|UTILITY POLE            |2        |\n",
      "|14855146|UTILITY POLE            |2        |\n",
      "+--------+------------------------+---------+\n",
      "only showing top 10 rows\n",
      "\n",
      "+----------------------------------------+\n",
      "|DAMAGED_PROPERTY                        |\n",
      "+----------------------------------------+\n",
      "|NO STANDING STOPPING PARKING SIGN       |\n",
      "|NO U TURN SIGN                          |\n",
      "|NEWSPAPER BOX                           |\n",
      "|NO HEAVY TRUCK SIGN                     |\n",
      "|NETWIRE FENCE                           |\n",
      "|NEIGHBORHOOD SIGN / LANDSCAPE           |\n",
      "|NDOWS, SCHRUBS                          |\n",
      "|NO PARKING TXDOT SIGN / $700            |\n",
      "|NEW JERUSALEM MISSIONARY BABTIST CHURCH |\n",
      "|NB GUARD RAIL                           |\n",
      "|NORTHBOUND AND SOUTHBOUND GUARD RAILS   |\n",
      "|NO PARKING SIGN/POLE                    |\n",
      "|NO PARKING SIGN                         |\n",
      "|NATURAL GAS PIPELINE  OUTLET            |\n",
      "|NEIGHBORHOOD ENTRANCE SIGN              |\n",
      "|NEW HOLLAND TRACTOR TC35A               |\n",
      "|NORMANDY FOREST ENTRANCE SIGN           |\n",
      "|NO PARKING STREET SIGN                  |\n",
      "|NORTH BOUND RIGHT SHOULDER BARRIER      |\n",
      "|NO TRUCKS SIGN AND POLE @100            |\n",
      "|N/E CORNER CROSSWALK LIGHT              |\n",
      "|NE CORNER SIGNAL LIGHT AT 6200 SLIDE    |\n",
      "|NEIGHBORHOOD WATCH SIGN STRUCK          |\n",
      "|NARROW BRIDGE SIGN                      |\n",
      "|NO LEFT TURN SIGN                       |\n",
      "|NORTH CONCRETE JERSEY BARRIER WALL      |\n",
      "|NW CORNER OF RESIDENCE, WOODEN FENCE    |\n",
      "|NO U-TURN SIGN                          |\n",
      "|NE STREET LIGHT 45/GEORGIA              |\n",
      "|NORTHWEST CORNER CURB                   |\n",
      "|NATURAL GAS METER                       |\n",
      "|NBU POLE #01224                         |\n",
      "|NEIGHBORHOOD WATCH SIGN                 |\n",
      "|NTTA 161 HIGH WAY SIGN                  |\n",
      "|NO DUMPING SIGN                         |\n",
      "|NO DAMAGES TO THE CITY POLE 214385      |\n",
      "|NONE1                                   |\n",
      "|NORTH SIDE OF THE HOUSE                 |\n",
      "|NO PARKING SIGN DAMAGED                 |\n",
      "|NEWS PAPER RACK                         |\n",
      "|NORTH SIDE GARAGE WALL                  |\n",
      "|NO SMOKING SIGN/POLE                    |\n",
      "|NORTH FREEWAY WALL                      |\n",
      "|NEIGHBORHOOD WATCH SIGN KNOCKED DOWN.   |\n",
      "|NEON ENTRANCE SIGN DEMOLISHED           |\n",
      "|NO TURN SIGN                            |\n",
      "|NEWS PAPER MAILBOX                      |\n",
      "|NTE SIGNAGE                             |\n",
      "|NO DAMAGE TO BARRICADE                  |\n",
      "|NATURAL GAS SIGN                        |\n",
      "|NO LEFT TURN ONE WAY SIGN               |\n",
      "|NO TRESPASSING SIGN                     |\n",
      "|NEIGHBORHOOD WATCH SIGNS                |\n",
      "|NISSAN FRONTIER - LEFT REAR & REAR BUMPE|\n",
      "|NEIGHBORHOOD SIGN                       |\n",
      "|NATURAL GAS PIPE                        |\n",
      "|NO PARKING POSTED SIGN                  |\n",
      "|NATURAL GAS LINE                        |\n",
      "|NO DAMAGE TO FENCE                      |\n",
      "|NO PARKING - STREET SIGN                |\n",
      "|NATIONAL DRIVE STREET AND STOP SIGN     |\n",
      "|NAUTRAL GAS VALVE                       |\n",
      "|NATURAL GAS VALVE                       |\n",
      "|NET WIRE FENCE                          |\n",
      "|NETWIRE AND PIPE FENCE                  |\n",
      "|NO THRU TRUCKS SIGN                     |\n",
      "|NO PARKING ANYTIME SIGN                 |\n",
      "|NORTH EAST SIDE OF BUSINESS BUILDING    |\n",
      "|NTS TELEPHONE POLE                      |\n",
      "|N/SIDE WALL STRUCK                      |\n",
      "|NO TRUCK SIGN                           |\n",
      "|NORTH WALL OF APARTMENT BUILDING 17     |\n",
      "|NO TRUCK ROUTE SIGN                     |\n",
      "|NO DAMAGE, SIGNAL LIGHT POLE            |\n",
      "|NO PARKING SIGN #4112011 #200063690     |\n",
      "|NONE                                    |\n",
      "|NEIGHBORHOOD OWNED BRICK                |\n",
      "|NETTING / POLE                          |\n",
      "|NTTA GUARD RAIL                         |\n",
      "|NORTH WALL ON NORTHWEST FREEWAY         |\n",
      "|NET FENCING                             |\n",
      "|NEW ROAD DAMAGE TO REBARB               |\n",
      "|NORTH WALL APT #47                      |\n",
      "|NO PARKING BIKE LANE SIGN               |\n",
      "|NET WIRE AND T POST FENCE               |\n",
      "|NTTA DIRECTION SIGN                     |\n",
      "|NO PARKING SIGN AND POLE                |\n",
      "|NON-FIXED TRAILER HOME, STILL ON AXELS, |\n",
      "+----------------------------------------+\n",
      "\n"
     ]
    }
   ],
   "source": [
    "# df_damages analysis\n",
    "print(df_damages.count())\n",
    "print(df_damages.select('CRASH_ID').distinct().count())\n",
    "print(df_damages.distinct().count())\n",
    "df_damages.groupBy('CRASH_ID','DAMAGED_PROPERTY')\\\n",
    "        .agg(count('CRASH_ID').alias('ID_COUNTS'))\\\n",
    "        .filter(col('ID_COUNTS')>1)\\\n",
    "        .join(df_damages,['CRASH_ID','DAMAGED_PROPERTY'],'inner')\\\n",
    "        .orderBy(col('CRASH_ID')).show(10,False)\n",
    "# Duplicates exists\n",
    "df_damages.select('DAMAGED_PROPERTY').filter(upper(col('DAMAGED_PROPERTY')).like('N%')).distinct().show(20000,False)\n",
    "# no damage- NONE, NONE1"
   ]
  },
  {
   "cell_type": "code",
   "execution_count": 23,
   "id": "b0b5e671-e038-414b-9963-d86093812be1",
   "metadata": {},
   "outputs": [
    {
     "name": "stdout",
     "output_type": "stream",
     "text": [
      "['CRASH_ID', 'UNIT_NBR', 'PRSN_NBR', 'PRSN_TYPE_ID', 'PRSN_OCCPNT_POS_ID', 'PRSN_INJRY_SEV_ID', 'PRSN_AGE', 'PRSN_ETHNICITY_ID', 'PRSN_GNDR_ID', 'PRSN_EJCT_ID', 'PRSN_REST_ID', 'PRSN_AIRBAG_ID', 'PRSN_HELMET_ID', 'PRSN_SOL_FL', 'PRSN_ALC_SPEC_TYPE_ID', 'PRSN_ALC_RSLT_ID', 'PRSN_BAC_TEST_RSLT', 'PRSN_DRG_SPEC_TYPE_ID', 'PRSN_DRG_RSLT_ID', 'DRVR_DRG_CAT_1_ID', 'PRSN_DEATH_TIME', 'INCAP_INJRY_CNT', 'NONINCAP_INJRY_CNT', 'POSS_INJRY_CNT', 'NON_INJRY_CNT', 'UNKN_INJRY_CNT', 'TOT_INJRY_CNT', 'DEATH_CNT', 'DRVR_LIC_TYPE_ID', 'DRVR_LIC_STATE_ID', 'DRVR_LIC_CLS_ID', 'DRVR_ZIP']\n",
      "156954 116006\n"
     ]
    }
   ],
   "source": [
    "# 1. Analytics 1: Find the number of crashes (accidents) in which number of males killed are greater than 2\n",
    "# Dataframes: df_primary_person_use"
   ]
  },
  {
   "cell_type": "code",
   "execution_count": 26,
   "id": "660c78f8-4e8a-4f1e-88f5-624e02a86d60",
   "metadata": {},
   "outputs": [
    {
     "name": "stdout",
     "output_type": "stream",
     "text": [
      "156954 114949\n",
      "+------------+\n",
      "|PRSN_GNDR_ID|\n",
      "+------------+\n",
      "|          NA|\n",
      "|     UNKNOWN|\n",
      "|        MALE|\n",
      "|      FEMALE|\n",
      "+------------+\n",
      "\n"
     ]
    }
   ],
   "source": [
    "total_count = df_primary_person_use.select('CRASH_ID','PRSN_TYPE_ID','PRSN_GNDR_ID').count()\n",
    "total_distinct_count = df_primary_person_use.select('CRASH_ID','PRSN_GNDR_ID').distinct().count()\n",
    "print(total_count,total_distinct_count)\n",
    "df_primary_person_use.select('PRSN_GNDR_ID').distinct().show()"
   ]
  },
  {
   "cell_type": "code",
   "execution_count": 146,
   "id": "4290503f-38cb-40fe-a532-d6316aabf164",
   "metadata": {},
   "outputs": [
    {
     "name": "stdout",
     "output_type": "stream",
     "text": [
      "+--------+----------+\n",
      "|CRASH_ID|MALE_COUNT|\n",
      "+--------+----------+\n",
      "|14924106|         3|\n",
      "|14955856|         3|\n",
      "|14950546|         3|\n",
      "|14996800|         3|\n",
      "|15019844|         4|\n",
      "|15039520|         3|\n",
      "|15098952|         3|\n",
      "|15106821|         3|\n",
      "|15123971|         3|\n",
      "|15290297|         3|\n",
      "|15439347|         3|\n",
      "|15452278|         3|\n",
      "|15478337|         3|\n",
      "|15010617|         3|\n",
      "|15166425|         3|\n",
      "|15176663|         3|\n",
      "|14851641|         4|\n",
      "|14894300|         3|\n",
      "|14897119|         3|\n",
      "|14905464|         4|\n",
      "+--------+----------+\n",
      "only showing top 20 rows\n",
      "\n"
     ]
    }
   ],
   "source": [
    "df_primary_person_male = df_primary_person_use.filter(col('PRSN_GNDR_ID')=='MALE')\n",
    "df_primary_person_male_count = df_primary_person_male.groupBy('CRASH_ID') \\\n",
    "    .agg(count('CRASH_ID').alias('MALE_COUNT')) \\\n",
    "    .filter(col('MALE_COUNT')>2)\n",
    "df_primary_person_male_count.show()"
   ]
  },
  {
   "cell_type": "code",
   "execution_count": 141,
   "id": "6fb3b10a-45c7-4f30-8bab-26a9728d3cf5",
   "metadata": {},
   "outputs": [],
   "source": [
    "# Analysis 2: How many two wheelers are booked for crashes?"
   ]
  },
  {
   "cell_type": "code",
   "execution_count": 44,
   "id": "cb48b228-5275-4119-9a2e-d0df8740b22a",
   "metadata": {},
   "outputs": [
    {
     "name": "stdout",
     "output_type": "stream",
     "text": [
      "+---------------------------------+\n",
      "|VEH_BODY_STYL_ID                 |\n",
      "+---------------------------------+\n",
      "|BUS                              |\n",
      "|NA                               |\n",
      "|VAN                              |\n",
      "|PICKUP                           |\n",
      "|SPORT UTILITY VEHICLE            |\n",
      "|PASSENGER CAR, 4-DOOR            |\n",
      "|FIRE TRUCK                       |\n",
      "|TRUCK                            |\n",
      "|UNKNOWN                          |\n",
      "|AMBULANCE                        |\n",
      "|POLICE CAR/TRUCK                 |\n",
      "|MOTORCYCLE                       |\n",
      "|YELLOW SCHOOL BUS                |\n",
      "|POLICE MOTORCYCLE                |\n",
      "|PASSENGER CAR, 2-DOOR            |\n",
      "|TRUCK TRACTOR                    |\n",
      "|FARM EQUIPMENT                   |\n",
      "|NEV-NEIGHBORHOOD ELECTRIC VEHICLE|\n",
      "|OTHER  (EXPLAIN IN NARRATIVE)    |\n",
      "|NOT REPORTED                     |\n",
      "+---------------------------------+\n",
      "\n"
     ]
    }
   ],
   "source": [
    "df_units.select(\"VEH_BODY_STYL_ID\").distinct().show(truncate=False)"
   ]
  },
  {
   "cell_type": "code",
   "execution_count": 148,
   "id": "056ffea5-771f-42e9-a361-e5e86748e611",
   "metadata": {},
   "outputs": [
    {
     "name": "stdout",
     "output_type": "stream",
     "text": [
      "+--------+--------+-------------+-------------+----------+----------------+-----------------+------------+------------+---------------+----------+----------------+---------------+--------+-----------------+--------------------+--------------------+-----------------+--------------+--------------------+-----------------+--------------+------------------+--------------------+--------------------+--------------------+------------------+-------------------+---------------+---------------------+---------------+------------------+--------------+-------------+--------------+-------------+---------+\n",
      "|CRASH_ID|UNIT_NBR| UNIT_DESC_ID|VEH_PARKED_FL|VEH_HNR_FL|VEH_LIC_STATE_ID|              VIN|VEH_MOD_YEAR|VEH_COLOR_ID|    VEH_MAKE_ID|VEH_MOD_ID|VEH_BODY_STYL_ID|EMER_RESPNDR_FL|OWNR_ZIP|FIN_RESP_PROOF_ID|    FIN_RESP_TYPE_ID|  VEH_DMAG_AREA_1_ID|VEH_DMAG_SCL_1_ID|FORCE_DIR_1_ID|  VEH_DMAG_AREA_2_ID|VEH_DMAG_SCL_2_ID|FORCE_DIR_2_ID|VEH_INVENTORIED_FL|     VEH_TRANSP_NAME|     VEH_TRANSP_DEST|  CONTRIB_FACTR_1_ID|CONTRIB_FACTR_2_ID|CONTRIB_FACTR_P1_ID|VEH_TRVL_DIR_ID|FIRST_HARM_EVT_INV_ID|INCAP_INJRY_CNT|NONINCAP_INJRY_CNT|POSS_INJRY_CNT|NON_INJRY_CNT|UNKN_INJRY_CNT|TOT_INJRY_CNT|DEATH_CNT|\n",
      "+--------+--------+-------------+-------------+----------+----------------+-----------------+------------+------------+---------------+----------+----------------+---------------+--------+-----------------+--------------------+--------------------+-----------------+--------------+--------------------+-----------------+--------------+------------------+--------------------+--------------------+--------------------+------------------+-------------------+---------------+---------------------+---------------+------------------+--------------+-------------+--------------+-------------+---------+\n",
      "|14840537|       2|MOTOR VEHICLE|            N|         N|              MX|3H1JC30405D400818|        2005|         RED|          HONDA|        NA|      MOTORCYCLE|              N|       0|                2|                  NA|BACK END DAMAGE C...|        DAMAGED 5|             6|MOTORCYCLE, SCOOT...|DAMAGED 1 MINIMUM|             6|                 N|              DRIVER|         PRIVATE TOW|                NONE|                NA|                 NA|           EAST|                    Y|              0|                 1|             0|            0|             0|            1|        0|\n",
      "|14842665|       2|MOTOR VEHICLE|            N|         N|              TX|JH2SC68HXEK200108|          NA|         RED|          HONDA|   UNKNOWN|      MOTORCYCLE|              N|   77423|                1|PROOF OF LIABILIT...|MOTORCYCLE, SCOOT...|DAMAGED 1 MINIMUM|            NA|                  NA|               NA|            NA|                 N|GREGORY'S WRECKER...|1450 KELLNER RD, ...|                NONE|                NA|                 NA|      NORTHEAST|                    Y|              0|                 2|             0|            0|             0|            2|        0|\n",
      "|14842773|       2|MOTOR VEHICLE|            N|         N|              TX|1HD1KBM18BB679048|          NA|         BLK|HARLEY-DAVIDSON|        NA|      MOTORCYCLE|              N|   77071|                1|PROOF OF LIABILIT...|MOTORCYCLE, SCOOT...|DAMAGED 1 MINIMUM|            NA|                  NA|               NA|            NA|                 N|           NOT TOWED|           NOT TOWED|                NONE|                NA|                 NA|           WEST|                    Y|              1|                 0|             0|            0|             0|            1|        0|\n",
      "|14850788|       2|MOTOR VEHICLE|            N|         N|              TX|MLHPC4611D5000222|          NA|         BLK|          HONDA|        NA|      MOTORCYCLE|              N|   78744|                1|PROOF OF LIABILIT...|RIGHT FRONT QUART...|        DAMAGED 5|             4|                  NA|               NA|            NA|                 N|       ROCHAS TOWING|       5700 BURLESON|                NONE|                NA|                 NA|           EAST|                    Y|              1|                 0|             0|            0|             0|            1|        0|\n",
      "|14853368|       1|MOTOR VEHICLE|            N|         N|              TX|1HD1JDB156Y086526|        2006|         BLK|HARLEY-DAVIDSON|   UNKNOWN|      MOTORCYCLE|              N|   76248|                1|PROOF OF LIABILIT...|RIGHT SIDE DAMAGE...|        DAMAGED 3|             2|                  NA|               NA|            NA|                 N|                null|                null|FAILED TO CONTROL...|                NA|                 NA|      NORTHWEST|                    Y|              0|                 1|             0|            0|             0|            1|        0|\n",
      "+--------+--------+-------------+-------------+----------+----------------+-----------------+------------+------------+---------------+----------+----------------+---------------+--------+-----------------+--------------------+--------------------+-----------------+--------------+--------------------+-----------------+--------------+------------------+--------------------+--------------------+--------------------+------------------+-------------------+---------------+---------------------+---------------+------------------+--------------+-------------+--------------+-------------+---------+\n",
      "only showing top 5 rows\n",
      "\n",
      "784\n"
     ]
    }
   ],
   "source": [
    "df_units_cleaned = df_units.select('CRASH_ID','UNIT_NBR','VIN','VEH_BODY_STYL_ID').distinct()\n",
    "df_two_wheelers = df_units_cleaned.filter(col(\"VEH_BODY_STYL_ID\").contains(\"MOTORCYCLE\"))\n",
    "two_Wheelers_count = df_two_wheelers.count()\n",
    "df_two_wheelers.show(5)\n",
    "print(two_Wheelers_count)"
   ]
  },
  {
   "cell_type": "code",
   "execution_count": 163,
   "id": "d16bccf8-3f93-40c9-9133-c67a2c9f74be",
   "metadata": {},
   "outputs": [
    {
     "name": "stdout",
     "output_type": "stream",
     "text": [
      "+--------------------+\n",
      "|        PRSN_TYPE_ID|\n",
      "+--------------------+\n",
      "|          PEDESTRIAN|\n",
      "|DRIVER OF MOTORCY...|\n",
      "|  PASSENGER/OCCUPANT|\n",
      "|              DRIVER|\n",
      "|             UNKNOWN|\n",
      "|OTHER (EXPLAIN IN...|\n",
      "|        PEDALCYCLIST|\n",
      "+--------------------+\n",
      "\n",
      "+-----------+----------------------------+\n",
      "|VEH_MAKE_ID|COUNT_OF_DEATH_AND_ABFAILURE|\n",
      "+-----------+----------------------------+\n",
      "|  CHEVROLET|                           8|\n",
      "|       FORD|                           6|\n",
      "|     NISSAN|                           5|\n",
      "|      DODGE|                           2|\n",
      "|      HONDA|                           2|\n",
      "+-----------+----------------------------+\n",
      "\n",
      "{'CHEVROLET': 8, 'FORD': 6, 'NISSAN': 5, 'DODGE': 2, 'HONDA': 2}\n"
     ]
    }
   ],
   "source": [
    "# Analysis 3: Determine the Top 5 Vehicle Makes of the cars present in the crashes in which driver died and Airbags did not deploy.\n",
    "# df_primary_person_use-> PRSN_DEATH_TIME,PRSN_AIRBAG_ID,CRASH_ID\n",
    "# df_units-> VEH_MAKE_ID,CRASH_ID\n",
    "#df_units.filter(col('VEH_MAKE_ID')=='NA').distinct().show(1000,False)\n",
    "\n",
    "df_primary_person_use.select('PRSN_TYPE_ID').distinct().show()\n",
    "df_pp_airbag_failure_and_death = df_primary_person_use.filter(col('PRSN_DEATH_TIME').isNotNull() & (col('PRSN_AIRBAG_ID') == 'NOT DEPLOYED'))\n",
    "df_units_cleaned = df_units.select('CRASH_ID','UNIT_NBR','VIN','VEH_MAKE_ID').distinct()\n",
    "df_top_make = df_units_cleaned.filter(col('VEH_MAKE_ID')!='NA').join(df_pp_airbag_failure_and_death, ['CRASH_ID','UNIT_NBR'], 'inner') \\\n",
    "    .groupby(\"VEH_MAKE_ID\").agg(count('VEH_MAKE_ID').alias('COUNT_OF_DEATH_AND_ABFAILURE')) \\\n",
    "    .orderBy(col(\"COUNT_OF_DEATH_AND_ABFAILURE\").desc()).limit(5)\n",
    "df_top_make.show()\n",
    "print({row['VEH_MAKE_ID']:row['COUNT_OF_DEATH_AND_ABFAILURE'] for row in df_top_make.collect()})"
   ]
  },
  {
   "cell_type": "code",
   "execution_count": 360,
   "id": "3efcce00-3277-47c7-b89c-c84b7405ed89",
   "metadata": {},
   "outputs": [
    {
     "name": "stdout",
     "output_type": "stream",
     "text": [
      "2536\n"
     ]
    }
   ],
   "source": [
    "# Analysis 4: Determine number of Vehicles with driver having valid licences involved in hit and run?\n",
    "# conditions: valid licence, hit and run\n",
    "# valid license: \n",
    "# hit and run: df_units-> VEH_HNR_FL\n",
    "# df_primary_person_use.select('DRVR_LIC_TYPE_ID', 'DRVR_LIC_CLS_ID').distinct().orderBy(col('DRVR_LIC_TYPE_ID')).show(10000)\n",
    "# df_primary_person_use.select('DRVR_LIC_TYPE_ID').distinct().show(truncate=False)\n",
    "# df_units.select('VEH_HNR_FL').distinct().show()\n",
    "df_units_cleaned = df_units.select('CRASH_ID','UNIT_NBR','VIN','VEH_HNR_FL').distinct()\n",
    "df_hit_n_run = df_units_cleaned.filter(col('VEH_HNR_FL')=='Y')\n",
    "\n",
    "df_valid_license = df_primary_person_use.filter(~col('DRVR_LIC_CLS_ID').isin(['UNKNOWN','NA','UNLICENSED']) \\\n",
    "                            & (col('DRVR_LIC_TYPE_ID').isin([\"DRIVER LICENSE\", \"COMMERCIAL DRIVER LIC.\"])))\n",
    "\n",
    "df_result = df_valid_license.join(df_hit_n_run, ['CRASH_ID','UNIT_NBR'],'inner')\n",
    "# df_result.show()\n",
    "print(df_result.count())"
   ]
  },
  {
   "cell_type": "code",
   "execution_count": 185,
   "id": "f63c20f7-8412-431f-aa24-65a96dfa7b56",
   "metadata": {},
   "outputs": [
    {
     "name": "stdout",
     "output_type": "stream",
     "text": [
      "+------------+\n",
      "|PRSN_GNDR_ID|\n",
      "+------------+\n",
      "|          NA|\n",
      "|     UNKNOWN|\n",
      "|        MALE|\n",
      "|      FEMALE|\n",
      "+------------+\n",
      "\n",
      "Texas\n"
     ]
    }
   ],
   "source": [
    "# Analysis 5: Which state has highest number of accidents in which females are not involved?\n",
    "df_primary_person_use.select('PRSN_GNDR_ID').distinct().show()\n",
    "df_crash_with_females = df_primary_person_use.filter(col('PRSN_GNDR_ID') == \"FEMALE\") \\\n",
    "            .select('CRASH_ID').distinct()\n",
    "df_no_female_crash = df_primary_person_use \\\n",
    "            .join(df_crash_with_females, ['CRASH_ID'], 'leftanti') \\\n",
    "            .select('CRASH_ID','DRVR_LIC_STATE_ID').distinct()\n",
    "df_result = df_no_female_crash.groupby(\"DRVR_LIC_STATE_ID\") \\\n",
    "            .agg(count('DRVR_LIC_STATE_ID').alias('NO_FEMALE_ACCIDENT_COUNT')) \\\n",
    "            .orderBy(col(\"NO_FEMALE_ACCIDENT_COUNT\").desc())\n",
    "print(df_result.first().DRVR_LIC_STATE_ID)"
   ]
  },
  {
   "cell_type": "code",
   "execution_count": 222,
   "id": "824978b1-3384-4a80-b2f1-ee985cfcbec0",
   "metadata": {},
   "outputs": [
    {
     "name": "stdout",
     "output_type": "stream",
     "text": [
      "+-----------+------------+----------+---------+\n",
      "|VEH_MAKE_ID|AGG_INJURIES|AGG_DEATHS|AGG_COUNT|\n",
      "+-----------+------------+----------+---------+\n",
      "|  CHEVROLET|      6963.0|      37.0|   7000.0|\n",
      "|       FORD|      6901.0|      42.0|   6943.0|\n",
      "|     TOYOTA|      4207.0|      20.0|   4227.0|\n",
      "|      DODGE|      3124.0|      12.0|   3136.0|\n",
      "|     NISSAN|      3092.0|      21.0|   3113.0|\n",
      "+-----------+------------+----------+---------+\n",
      "\n",
      "['TOYOTA', 'DODGE', 'NISSAN']\n"
     ]
    }
   ],
   "source": [
    "# Analysis 6: Which are the Top 3rd to 5th VEH_MAKE_IDs that contribute to a largest number of injuries including death\n",
    "\n",
    "df_units_cleaned = df_units.filter(col('VEH_MAKE_ID') != \"NA\") \\\n",
    "        .select('CRASH_ID','UNIT_NBR','VIN','VEH_MAKE_ID','TOT_INJRY_CNT','DEATH_CNT').distinct()\n",
    "df = df_units_cleaned.groupby('VEH_MAKE_ID').agg(sum('TOT_INJRY_CNT').alias('AGG_INJURIES'), sum('DEATH_CNT').alias('AGG_DEATHS')) \\\n",
    "                    .withColumn('AGG_COUNT', col('AGG_INJURIES')+col('AGG_DEATHS')) \\\n",
    "                    .orderBy(col(\"AGG_COUNT\").desc()) \\\n",
    "                    .limit(5)\n",
    "df2 = df.withColumn(\"id\", monotonically_increasing_id()).filter(col(\"id\") >= 2).drop(\"id\")\n",
    "df.show()\n",
    "print([company_row['VEH_MAKE_ID'] for company_row in df2.collect()])"
   ]
  },
  {
   "cell_type": "code",
   "execution_count": 233,
   "id": "abe027ca-ce61-4c4f-87e2-c4865be1cddd",
   "metadata": {},
   "outputs": [
    {
     "name": "stdout",
     "output_type": "stream",
     "text": [
      "+---------------------------------+\n",
      "|VEH_BODY_STYL_ID                 |\n",
      "+---------------------------------+\n",
      "|BUS                              |\n",
      "|NA                               |\n",
      "|VAN                              |\n",
      "|PICKUP                           |\n",
      "|SPORT UTILITY VEHICLE            |\n",
      "|PASSENGER CAR, 4-DOOR            |\n",
      "|FIRE TRUCK                       |\n",
      "|TRUCK                            |\n",
      "|UNKNOWN                          |\n",
      "|AMBULANCE                        |\n",
      "|POLICE CAR/TRUCK                 |\n",
      "|MOTORCYCLE                       |\n",
      "|YELLOW SCHOOL BUS                |\n",
      "|POLICE MOTORCYCLE                |\n",
      "|PASSENGER CAR, 2-DOOR            |\n",
      "|TRUCK TRACTOR                    |\n",
      "|FARM EQUIPMENT                   |\n",
      "|NEV-NEIGHBORHOOD ELECTRIC VEHICLE|\n",
      "|OTHER  (EXPLAIN IN NARRATIVE)    |\n",
      "|NOT REPORTED                     |\n",
      "+---------------------------------+\n",
      "\n",
      "+---------------------------+\n",
      "|PRSN_ETHNICITY_ID          |\n",
      "+---------------------------+\n",
      "|WHITE                      |\n",
      "|BLACK                      |\n",
      "|HISPANIC                   |\n",
      "|NA                         |\n",
      "|AMER. INDIAN/ALASKAN NATIVE|\n",
      "|UNKNOWN                    |\n",
      "|OTHER                      |\n",
      "|ASIAN                      |\n",
      "+---------------------------+\n",
      "\n",
      "+--------------------+-----------------+\n",
      "|    VEH_BODY_STYL_ID|PRSN_ETHNICITY_ID|\n",
      "+--------------------+-----------------+\n",
      "|           AMBULANCE|            WHITE|\n",
      "|                 BUS|            BLACK|\n",
      "|      FARM EQUIPMENT|            WHITE|\n",
      "|          FIRE TRUCK|            WHITE|\n",
      "|          MOTORCYCLE|            WHITE|\n",
      "|NEV-NEIGHBORHOOD ...|            WHITE|\n",
      "|PASSENGER CAR, 2-...|            WHITE|\n",
      "|PASSENGER CAR, 4-...|            WHITE|\n",
      "|              PICKUP|            WHITE|\n",
      "|    POLICE CAR/TRUCK|            WHITE|\n",
      "|   POLICE MOTORCYCLE|            WHITE|\n",
      "|SPORT UTILITY VEH...|            WHITE|\n",
      "|               TRUCK|            WHITE|\n",
      "|       TRUCK TRACTOR|            WHITE|\n",
      "|                 VAN|            WHITE|\n",
      "|   YELLOW SCHOOL BUS|            BLACK|\n",
      "+--------------------+-----------------+\n",
      "\n"
     ]
    }
   ],
   "source": [
    "# Analysis 7: For all the body styles involved in crashes, mention the top ethnic user group of each unique body style\n",
    "df_units.select('VEH_BODY_STYL_ID').distinct().show(truncate=False)\n",
    "df_primary_person_use.select('PRSN_ETHNICITY_ID').distinct().show(truncate=False)\n",
    "undefined_body_values = [\"NOT REPORTED\",\"OTHER  (EXPLAIN IN NARRATIVE)\", \"UNKNOWN\",\"NA\"]\n",
    "\n",
    "df_units_cleaned = df_units.filter(~col('VEH_BODY_STYL_ID').isin(undefined_body_values)) \\\n",
    "        .select('CRASH_ID','UNIT_NBR','VIN','VEH_HNR_FL','VEH_BODY_STYL_ID') \\\n",
    "        .distinct()\n",
    "df_primary_person_cleaned = df_primary_person_use.filter(~col('PRSN_ETHNICITY_ID').isin([\"NA\", \"UNKNOWN\"]))\n",
    "\n",
    "window = Window.partitionBy(\"VEH_BODY_STYL_ID\")\n",
    "df_result = df_units_cleaned.join(df_primary_person_cleaned, on=['CRASH_ID','UNIT_NBR'], how='inner') \\\n",
    "    .groupby(\"VEH_BODY_STYL_ID\", \"PRSN_ETHNICITY_ID\").count() \\\n",
    "    .withColumn(\"rn\", row_number().over(window.orderBy(col(\"count\").desc()))) \\\n",
    "    .filter(col(\"rn\") == 1) \\\n",
    "    .drop(\"rn\", \"count\")\n",
    "df_result.show()"
   ]
  },
  {
   "cell_type": "code",
   "execution_count": 262,
   "id": "956ab530-6145-4a07-89e9-b383c4f68289",
   "metadata": {},
   "outputs": [
    {
     "name": "stdout",
     "output_type": "stream",
     "text": [
      "+--------+-------------------+\n",
      "|DRVR_ZIP|ALCOHOL_CRASH_COUNT|\n",
      "+--------+-------------------+\n",
      "|   76010|                 52|\n",
      "|   78521|                 47|\n",
      "|   75067|                 41|\n",
      "|   78130|                 41|\n",
      "|   78542|                 38|\n",
      "+--------+-------------------+\n",
      "\n",
      "['76010', '78521', '75067', '78130', '78542']\n"
     ]
    }
   ],
   "source": [
    "# Analysis 8: Among the crashed cars, what are the Top 5 Zip Codes with highest number crashes with alcohols as the contributing factor to a crash (Use Driver Zip Code)\n",
    "# CONTRIB_FACTR_1_ID, CONTRIB_FACTR_P1_ID defined to be same but have different values\n",
    "\n",
    "\n",
    "df_units_cleaned =df_units.filter(lower(col('CONTRIB_FACTR_1_ID')).contains('alcohol') \\\n",
    "                | lower(col('CONTRIB_FACTR_2_ID')).contains('alcohol') \\\n",
    "                | lower(col('CONTRIB_FACTR_P1_ID')).contains('alcohol')) \\\n",
    "        .select('CRASH_ID','UNIT_NBR','VIN','VEH_HNR_FL','VEH_BODY_STYL_ID') \\\n",
    "        .distinct()\n",
    "df_primary_person_cleaned = df_primary_person_use.na.drop(subset = ['DRVR_ZIP'])\n",
    "df_alc_crash = df_units_cleaned.join(df_primary_person_cleaned, on=['CRASH_ID','UNIT_NBR'], how='inner') \\\n",
    "        .groupBy('DRVR_ZIP').agg(count('DRVR_ZIP').alias('ALCOHOL_CRASH_COUNT')) \\\n",
    "        .orderBy(col(\"ALCOHOL_CRASH_COUNT\").desc()) \\\n",
    "        .limit(5)\n",
    "df_alc_crash.show()\n",
    "print([zip_row['DRVR_ZIP'] for zip_row in df_alc_crash.collect()])"
   ]
  },
  {
   "cell_type": "code",
   "execution_count": 337,
   "id": "f53de344-c6e5-4c1a-955d-851a5311d50a",
   "metadata": {},
   "outputs": [
    {
     "name": "stdout",
     "output_type": "stream",
     "text": [
      "['14996273', '15232090', '14894076', '14870169', '15249931', '15307513']\n"
     ]
    }
   ],
   "source": [
    "# Analysis 9: Count of Distinct Crash IDs where No Damaged Property was observed and Damage Level (VEH_DMAG_SCL~) is above 4 and car avails Insurance\n",
    "# Remove integers and leave NA as it might stand for North america\n",
    "df_damages_unique = df_damages.filter(upper(col('DAMAGED_PROPERTY')).isin(['NONE', 'NONE1'])) \\\n",
    "        .select('CRASH_ID') \\\n",
    "        .distinct()\n",
    "insurance_claims = ['INSURANCE BINDER', 'LIABILITY INSURANCE POLICY', 'PROOF OF LIABILITY INSURANCE']\n",
    "df_units_cleaned = df_units.filter(\n",
    "            (\n",
    "                ((~col('VEH_DMAG_SCL_1_ID').isin([\"NA\", \"NO DAMAGE\", \"INVALID VALUE\"]))\\\n",
    "                    & (col('VEH_DMAG_SCL_1_ID') > 'DAMAGED 4')) | \\\n",
    "                ((~col('VEH_DMAG_SCL_2_ID').isin([\"NA\", \"NO DAMAGE\", \"INVALID VALUE\"]))\\\n",
    "                    & (col('VEH_DMAG_SCL_2_ID') > 'DAMAGED 4'))) \\\n",
    "            & col('FIN_RESP_TYPE_ID').isin(insurance_claims)\n",
    "        ) \\\n",
    "        .select('CRASH_ID') \\\n",
    "        .distinct()\n",
    "\n",
    "df_crash_id_result = df_units_cleaned.join(df_damages_unique, ['CRASH_ID'], 'inner')\n",
    "print([crash_id_row['CRASH_ID'] for crash_id_row in df_crash_id_result.collect()])\n",
    "\n",
    "\n"
   ]
  },
  {
   "cell_type": "code",
   "execution_count": 299,
   "id": "80c36fec-2b67-4a6b-a1b2-00c7b937d39d",
   "metadata": {},
   "outputs": [
    {
     "name": "stdout",
     "output_type": "stream",
     "text": [
      "+-----------------+\n",
      "|VEH_DMAG_SCL_1_ID|\n",
      "+-----------------+\n",
      "|        DAMAGED 4|\n",
      "|    INVALID VALUE|\n",
      "|               NA|\n",
      "|        DAMAGED 5|\n",
      "|DAMAGED 1 MINIMUM|\n",
      "|        DAMAGED 3|\n",
      "|        NO DAMAGE|\n",
      "|DAMAGED 7 HIGHEST|\n",
      "|        DAMAGED 2|\n",
      "|        DAMAGED 6|\n",
      "+-----------------+\n",
      "\n",
      "+-----------------+\n",
      "|VEH_DMAG_SCL_2_ID|\n",
      "+-----------------+\n",
      "|        DAMAGED 4|\n",
      "|    INVALID VALUE|\n",
      "|               NA|\n",
      "|        DAMAGED 5|\n",
      "|DAMAGED 1 MINIMUM|\n",
      "|        DAMAGED 3|\n",
      "|        NO DAMAGE|\n",
      "|DAMAGED 7 HIGHEST|\n",
      "|        DAMAGED 2|\n",
      "|        DAMAGED 6|\n",
      "+-----------------+\n",
      "\n",
      "+----------------------------------------+\n",
      "|FIN_RESP_TYPE_ID                        |\n",
      "+----------------------------------------+\n",
      "|INSURANCE BINDER                        |\n",
      "|LIABILITY INSURANCE POLICY              |\n",
      "|NA                                      |\n",
      "|CERTIFICATE OF SELF-INSURANCE           |\n",
      "|CERTIFICATE OF DEPOSIT WITH COUNTY JUDGE|\n",
      "|CERTIFICATE OF DEPOSIT WITH COMPTROLLER |\n",
      "|SURETY BOND                             |\n",
      "|PROOF OF LIABILITY INSURANCE            |\n",
      "+----------------------------------------+\n",
      "\n"
     ]
    }
   ],
   "source": [
    "df_units.select('VEH_DMAG_SCL_1_ID').distinct().show(1000)\n",
    "df_units.select('VEH_DMAG_SCL_2_ID').distinct().show(1000)\n",
    "df_units.select('FIN_RESP_TYPE_ID').distinct().show(1000,False)"
   ]
  },
  {
   "cell_type": "code",
   "execution_count": 380,
   "id": "0640ec23-5c37-4400-891c-d4c053af8141",
   "metadata": {},
   "outputs": [
    {
     "name": "stdout",
     "output_type": "stream",
     "text": [
      "+----------------+------+\n",
      "|VEH_LIC_STATE_ID| count|\n",
      "+----------------+------+\n",
      "|              TX|153408|\n",
      "|              NA|  6031|\n",
      "|              UN|  1400|\n",
      "|              OK|   761|\n",
      "|              LA|   718|\n",
      "|              NM|   705|\n",
      "|              MX|   409|\n",
      "|              CA|   391|\n",
      "|              FL|   371|\n",
      "|              AR|   318|\n",
      "|              IN|   306|\n",
      "|              IL|   255|\n",
      "|              TN|   233|\n",
      "|              AZ|   215|\n",
      "|              MS|   204|\n",
      "|              CO|   168|\n",
      "|              GA|   160|\n",
      "|              KS|   152|\n",
      "|              MO|   142|\n",
      "|              NC|   134|\n",
      "+----------------+------+\n",
      "only showing top 20 rows\n",
      "\n",
      "+------------+-----+\n",
      "|VEH_COLOR_ID|count|\n",
      "+------------+-----+\n",
      "|          NA| 6160|\n",
      "|          99| 2028|\n",
      "|          98|  144|\n",
      "+------------+-----+\n",
      "\n",
      "+-----------+-----+\n",
      "|VEH_MAKE_ID|count|\n",
      "+-----------+-----+\n",
      "|  CHEVROLET|   31|\n",
      "|       FORD|   24|\n",
      "|     TOYOTA|   23|\n",
      "|     NISSAN|   12|\n",
      "|      DODGE|    8|\n",
      "+-----------+-----+\n",
      "\n",
      "['CHEVROLET', 'FORD', 'TOYOTA', 'NISSAN', 'DODGE']\n"
     ]
    }
   ],
   "source": [
    "# 0. Analysis 10: Determine the Top 5 Vehicle Makes where drivers are charged with speeding related offences, has licensed Drivers,\n",
    "# used top 10 used vehicle colours and has car licensed with the Top 25 states with highest number of offences (to be deduced from the data)\n",
    "df_units_cleaned = df_units.select('CRASH_ID','UNIT_NBR','VIN','VEH_LIC_STATE_ID','VEH_COLOR_ID','VEH_MAKE_ID').distinct()\n",
    "df_top_25_states = df_units_cleaned.filter(col(\"VEH_LIC_STATE_ID\").cast(\"float\").isNull()) \\\n",
    "        .groupBy('VEH_LIC_STATE_ID').count() \\\n",
    "        .orderBy(col('count').desc()).limit(25)\n",
    "df_top_25_states.show()\n",
    "\n",
    "df_top_10_colors = df_units_cleaned.filter((col('VEH_COLOR_ID') != \"NA\") \\\n",
    "                                           & (col(\"VEH_COLOR_ID\").cast(\"float\").isNull())) \\\n",
    "            .groupby(\"VEH_COLOR_ID\").count() \\\n",
    "            .orderBy(col(\"count\").desc()).limit(10)\n",
    "df_top_10_colors.show()\n",
    "\n",
    "df_pp_licenced = df_primary_person_use.filter(col('DRVR_LIC_TYPE_ID').isin([\"DRIVER LICENSE\", \"COMMERCIAL DRIVER LIC.\"]))\n",
    "df_speed_charges = df_charges.filter(col('CHARGE').contains('SPEED') | col('CHARGE').contains('FAST'))\\\n",
    "            .select('CRASH_ID', 'UNIT_NBR').distinct()\n",
    "\n",
    "df_result = df_units_cleaned.join(df_speed_charges, ['CRASH_ID', 'UNIT_NBR'], 'inner') \\\n",
    "                    .join(df_pp_licenced, ['CRASH_ID', 'UNIT_NBR'], 'inner') \\\n",
    "                    .join(df_top_10_colors, ['VEH_COLOR_ID'], 'inner') \\\n",
    "                    .join(df_top_25_states, ['VEH_LIC_STATE_ID'], 'inner') \\\n",
    "                    .groupby(\"VEH_MAKE_ID\").count() \\\n",
    "                    .orderBy(col(\"count\").desc()).limit(5)\n",
    "df_result.show()\n",
    "print([result_row['VEH_MAKE_ID'] for result_row in df_result.collect()])"
   ]
  },
  {
   "cell_type": "code",
   "execution_count": 379,
   "id": "8357004d-2fde-4117-aae4-08e97a4630e8",
   "metadata": {},
   "outputs": [
    {
     "name": "stdout",
     "output_type": "stream",
     "text": [
      "['CRASH_ID', 'UNIT_NBR']\n",
      "+----------------+\n",
      "|VEH_LIC_STATE_ID|\n",
      "+----------------+\n",
      "|AZ              |\n",
      "|SC              |\n",
      "|LA              |\n",
      "|MN              |\n",
      "|NJ              |\n",
      "|MX              |\n",
      "|DC              |\n",
      "|OR              |\n",
      "|NA              |\n",
      "|98              |\n",
      "|VA              |\n",
      "|RI              |\n",
      "|KY              |\n",
      "|WY              |\n",
      "|NH              |\n",
      "|MI              |\n",
      "|NV              |\n",
      "|WI              |\n",
      "|ID              |\n",
      "|CA              |\n",
      "|CT              |\n",
      "|NE              |\n",
      "|MT              |\n",
      "|NC              |\n",
      "|VT              |\n",
      "|MD              |\n",
      "|DE              |\n",
      "|MO              |\n",
      "|IL              |\n",
      "|ME              |\n",
      "|WA              |\n",
      "|ND              |\n",
      "|US              |\n",
      "|MS              |\n",
      "|AL              |\n",
      "|IN              |\n",
      "|OH              |\n",
      "|TN              |\n",
      "|NM              |\n",
      "|IA              |\n",
      "|PA              |\n",
      "|SD              |\n",
      "|NY              |\n",
      "|UN              |\n",
      "|TX              |\n",
      "|WV              |\n",
      "|DS              |\n",
      "|GA              |\n",
      "|MA              |\n",
      "|AS              |\n",
      "|KS              |\n",
      "|FL              |\n",
      "|CO              |\n",
      "|AK              |\n",
      "|AR              |\n",
      "|OK              |\n",
      "|UT              |\n",
      "|CD              |\n",
      "|HI              |\n",
      "+----------------+\n",
      "\n",
      "+----------------+\n",
      "|VEH_LIC_STATE_ID|\n",
      "+----------------+\n",
      "|              AZ|\n",
      "|              SC|\n",
      "|              LA|\n",
      "|              MN|\n",
      "|              NJ|\n",
      "|              MX|\n",
      "|              DC|\n",
      "|              OR|\n",
      "|              NA|\n",
      "|              VA|\n",
      "|              RI|\n",
      "|              KY|\n",
      "|              WY|\n",
      "|              NH|\n",
      "|              MI|\n",
      "|              NV|\n",
      "|              WI|\n",
      "|              ID|\n",
      "|              CA|\n",
      "|              CT|\n",
      "+----------------+\n",
      "only showing top 20 rows\n",
      "\n",
      "173390\n",
      "+------------+\n",
      "|VEH_COLOR_ID|\n",
      "+------------+\n",
      "|RED         |\n",
      "|TEA         |\n",
      "|BLK         |\n",
      "|ONG         |\n",
      "|YEL         |\n",
      "|GLD         |\n",
      "|NA          |\n",
      "|98          |\n",
      "|99          |\n",
      "|CAM         |\n",
      "|BRZ         |\n",
      "|TRQ         |\n",
      "|SIL         |\n",
      "|CPR         |\n",
      "|BRO         |\n",
      "|PLE         |\n",
      "|BLU         |\n",
      "|MAR         |\n",
      "|BGE         |\n",
      "|PNK         |\n",
      "|WHI         |\n",
      "|TAN         |\n",
      "|MUL         |\n",
      "|GRN         |\n",
      "|GRY         |\n",
      "+------------+\n",
      "\n"
     ]
    }
   ],
   "source": [
    "print(list(set(df_charges.columns) & set(df_units.columns)))\n",
    "df_units.select(\"VEH_LIC_STATE_ID\").distinct().show(2000,False)\n",
    "df_units.filter(col(\"VEH_LIC_STATE_ID\").cast(\"int\").isNull()).select(\"VEH_LIC_STATE_ID\").distinct().show()\n",
    "print(df_units.filter(col(\"VEH_LIC_STATE_ID\").cast(\"float\").isNull()).count())\n",
    "df_units.select(\"VEH_COLOR_ID\").distinct().show(2000,False)"
   ]
  },
  {
   "cell_type": "code",
   "execution_count": 365,
   "id": "be27bd73-a0a8-42eb-86e4-0531aa1887a8",
   "metadata": {},
   "outputs": [
    {
     "name": "stdout",
     "output_type": "stream",
     "text": [
      "+--------------------+\n",
      "|    DRVR_LIC_TYPE_ID|\n",
      "+--------------------+\n",
      "|                  NA|\n",
      "|COMMERCIAL DRIVER...|\n",
      "|             ID CARD|\n",
      "|             UNKNOWN|\n",
      "|        OCCUPATIONAL|\n",
      "|          UNLICENSED|\n",
      "|               OTHER|\n",
      "|      DRIVER LICENSE|\n",
      "+--------------------+\n",
      "\n",
      "+-------------------------------------------------------+\n",
      "|CHARGE                                                 |\n",
      "+-------------------------------------------------------+\n",
      "|UNSAFE SPEED, RUN RED LIGHT, FTLI, FAIL REPORT ACCIDENT|\n",
      "|HIT AND RUN $200                                       |\n",
      "|ACCIDENT INVOLVING DAMAGE TO VEHICLE (HIT AND RUN)     |\n",
      "|HIT AND RUN OVER $200                                  |\n",
      "|NO DL, FMFR, RUN RED LIGHT                             |\n",
      "|RUN RED LIGHT                                          |\n",
      "|TC 544.007 RUN RED LIGHT                               |\n",
      "|HIT AND RUN MORE THAN $200                             |\n",
      "|FAIL TO YIELD ROW - LEFT TRUN                          |\n",
      "|RUNNING A STOP SIGN                                    |\n",
      "|DWI / HIT AND RUN                                      |\n",
      "|DISOBEYED RED TRAFFIC SIGNAL/RUN RED LIGHT             |\n",
      "|RUN STOP SIGN                                          |\n",
      "|27/16 RUNNING A RED LIGHT                              |\n",
      "|FTYROW LEFT TRUN APPROACHING TRAFFIC                   |\n",
      "|DWI; HIT AND RUN                                       |\n",
      "|RUNNING STOP SIGN (ACCIDENT)                           |\n",
      "|HIT AND RUN  VEH DAMAGE                                |\n",
      "|RUNNING A STOP LIGHT                                   |\n",
      "|HIT & RUN                                              |\n",
      "|HIT AND RUN (ACCIDENT INVOLVING INJURY)                |\n",
      "|NO DRIVERS LICENSE, RUNNING A RED LIGHT                |\n",
      "|RUNNING RED LIGHT                                      |\n",
      "|RUNNING A RED LIGHT                                    |\n",
      "|RUN A RED LIGHT                                        |\n",
      "|HIT AND RUN (DUTY UPON STRIKING UNATTENDED VEHICLE)    |\n",
      "|HIT AND RUN OCCUPIED VEHICLE                           |\n",
      "|RUNNING THE RED LIGHT                                  |\n",
      "|HIT AND RUN                                            |\n",
      "|RUN STOP SIGHN (ACC)                                   |\n",
      "|DISREGARD RED LIGHT/ RUNNING RED LIGHT                 |\n",
      "|ACCIDENT HIT AND RUN                                   |\n",
      "|FTYROW LEFT TRUN                                       |\n",
      "|RUN STOP SIGN (ACC)                                    |\n",
      "|RECKLESS DAMAGE (HIT & RUN)                            |\n",
      "|RAN RUN LIGHT                                          |\n",
      "|RUNNING RED LIGHT/ NO DRIVER'S LICENSE.                |\n",
      "|ACCIDENT INVOLVING DAMAGE <$200 (HIT AND RUN)          |\n",
      "|MINOR HIT AND RUN                                      |\n",
      "|HIT AND RUN WITH DAMAGE OVER $200                      |\n",
      "|RUNNING STOP SIGN                                      |\n",
      "|RUNIING RED LIGHT ( ACCIDENT )                         |\n",
      "|HIT AND RUN UNDER $200                                 |\n",
      "|HIT AND RUN AN UNNATENDED VEHICLE                      |\n",
      "+-------------------------------------------------------+\n",
      "\n"
     ]
    }
   ],
   "source": [
    "df_primary_person_use.select('DRVR_LIC_TYPE_ID') .distinct().show()\n",
    "df_charges.select('CHARGE').filter(col('CHARGE').contains('RUN')).distinct().show(1000,False)"
   ]
  },
  {
   "cell_type": "code",
   "execution_count": 375,
   "id": "9303a968-d337-43f6-9592-b0c14332f559",
   "metadata": {},
   "outputs": [
    {
     "name": "stdout",
     "output_type": "stream",
     "text": [
      "168020\n",
      "168124\n",
      "173499\n"
     ]
    }
   ],
   "source": [
    "# print(df_units.select('CRASH_ID','UNIT_NBR','VIN','VEH_LIC_STATE_ID','VEH_COLOR_ID','VEH_MAKE_ID').distinct().count())\n",
    "# print(df_units.distinct().count())\n",
    "# print(df_units.count())"
   ]
  }
 ],
 "metadata": {
  "kernelspec": {
   "display_name": "Python 3 (ipykernel)",
   "language": "python",
   "name": "python3"
  },
  "language_info": {
   "codemirror_mode": {
    "name": "ipython",
    "version": 3
   },
   "file_extension": ".py",
   "mimetype": "text/x-python",
   "name": "python",
   "nbconvert_exporter": "python",
   "pygments_lexer": "ipython3",
   "version": "3.10.11"
  }
 },
 "nbformat": 4,
 "nbformat_minor": 5
}
